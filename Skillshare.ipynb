{
  "nbformat": 4,
  "nbformat_minor": 0,
  "metadata": {
    "colab": {
      "provenance": [],
      "collapsed_sections": [],
      "include_colab_link": true
    },
    "kernelspec": {
      "name": "python3",
      "display_name": "Python 3"
    },
    "language_info": {
      "name": "python"
    },
    "accelerator": "GPU",
    "gpuClass": "standard",
    "widgets": {
      "application/vnd.jupyter.widget-state+json": {
        "f6d5122c427341688475f4a334575dc3": {
          "model_module": "@jupyter-widgets/controls",
          "model_name": "ButtonModel",
          "model_module_version": "1.5.0",
          "state": {
            "_dom_classes": [],
            "_model_module": "@jupyter-widgets/controls",
            "_model_module_version": "1.5.0",
            "_model_name": "ButtonModel",
            "_view_count": null,
            "_view_module": "@jupyter-widgets/controls",
            "_view_module_version": "1.5.0",
            "_view_name": "ButtonView",
            "button_style": "warning",
            "description": "Installing",
            "disabled": true,
            "icon": "check",
            "layout": "IPY_MODEL_e120bac2f9374650aad95989fc0590d0",
            "style": "IPY_MODEL_cf3a1cd382bd4a67a9f98181c68ad5d9",
            "tooltip": "Installing"
          }
        },
        "e120bac2f9374650aad95989fc0590d0": {
          "model_module": "@jupyter-widgets/base",
          "model_name": "LayoutModel",
          "model_module_version": "1.2.0",
          "state": {
            "_model_module": "@jupyter-widgets/base",
            "_model_module_version": "1.2.0",
            "_model_name": "LayoutModel",
            "_view_count": null,
            "_view_module": "@jupyter-widgets/base",
            "_view_module_version": "1.2.0",
            "_view_name": "LayoutView",
            "align_content": null,
            "align_items": null,
            "align_self": null,
            "border": null,
            "bottom": null,
            "display": null,
            "flex": null,
            "flex_flow": null,
            "grid_area": null,
            "grid_auto_columns": null,
            "grid_auto_flow": null,
            "grid_auto_rows": null,
            "grid_column": null,
            "grid_gap": null,
            "grid_row": null,
            "grid_template_areas": null,
            "grid_template_columns": null,
            "grid_template_rows": null,
            "height": null,
            "justify_content": null,
            "justify_items": null,
            "left": null,
            "margin": null,
            "max_height": null,
            "max_width": null,
            "min_height": null,
            "min_width": null,
            "object_fit": null,
            "object_position": null,
            "order": null,
            "overflow": null,
            "overflow_x": null,
            "overflow_y": null,
            "padding": null,
            "right": null,
            "top": null,
            "visibility": null,
            "width": null
          }
        },
        "cf3a1cd382bd4a67a9f98181c68ad5d9": {
          "model_module": "@jupyter-widgets/controls",
          "model_name": "ButtonStyleModel",
          "model_module_version": "1.5.0",
          "state": {
            "_model_module": "@jupyter-widgets/controls",
            "_model_module_version": "1.5.0",
            "_model_name": "ButtonStyleModel",
            "_view_count": null,
            "_view_module": "@jupyter-widgets/base",
            "_view_module_version": "1.2.0",
            "_view_name": "StyleView",
            "button_color": null,
            "font_weight": ""
          }
        }
      }
    }
  },
  "cells": [
    {
      "cell_type": "markdown",
      "metadata": {
        "id": "view-in-github",
        "colab_type": "text"
      },
      "source": [
        "<a href=\"https://colab.research.google.com/github/DOMO-Dom/Skillshare-DL/blob/master/Skillshare.ipynb\" target=\"_parent\"><img src=\"https://colab.research.google.com/assets/colab-badge.svg\" alt=\"Open In Colab\"/></a>"
      ]
    },
    {
      "cell_type": "code",
      "source": [
        "#@markdown <h3>⬅ Run This Cell to  Mount Gdrive</h3>\n",
        "from google.colab import drive\n",
        "drive.mount('/content/drive')"
      ],
      "metadata": {
        "colab": {
          "base_uri": "https://localhost:8080/"
        },
        "id": "YjIuM_T5WqTJ",
        "outputId": "047598de-9610-44dc-fd32-549b27a7b21d"
      },
      "execution_count": 1,
      "outputs": [
        {
          "output_type": "stream",
          "name": "stdout",
          "text": [
            "Mounted at /content/drive\n"
          ]
        }
      ]
    },
    {
      "cell_type": "code",
      "source": [
        "#@markdown <h3>⬅️ Run This Cell to Install Skillshare-DL Requirements</h3>\n",
        "import random, string, urllib.request, json, getpass, os, IPython, uuid\n",
        "import ipywidgets as widgets\n",
        "\n",
        "from IPython.display import HTML, clear_output\n",
        "\n",
        "loadingBtn = widgets.Button(description = \"Installing\",\n",
        "                          disabled = True,\n",
        "                          button_style = 'warning', # 'success', 'info', 'warning', 'danger' or '' \n",
        "                          tooltip = \"Installing\",\n",
        "                          icon = 'check')\n",
        "display(loadingBtn)\n",
        "\n",
        "if not os.path.exists(\"/opt/python3.7\"):\n",
        "  get_ipython().system_raw(\"rm -rf /content/sample_data/ && sudo apt update && sudo apt install software-properties-common\")\n",
        "  get_ipython().system_raw(\"sudo add-apt-repository ppa:deadsnakes/ppa\")\n",
        "  get_ipython().system_raw(\"sudo apt install python3.7\")\n",
        "  get_ipython().system_raw(\"sudo apt install python3-pip\")\n",
        "  get_ipython().system_raw(\"python3.7 -m pip install --upgrade pip setuptools wheel\")\n",
        "  get_ipython().system_raw(\"git clone https://github.com/simlimone/Skillshare-DL.git /root/.Skillshare-DL\")\n",
        "  get_ipython().system_raw(\"rm -r /root/.Skillshare-DL/Skillshare.ipynb\")\n",
        "  clear_output()\n",
        "\n",
        "try:\n",
        "  get_ipython().system_raw(\"python3.7 -m pip -q install -r /root/.Skillshare-DL/requirements.txt\")\n",
        "  display(HTML(\"<center><h2 style=\\\"font-family:Trebuchet MS;color:#4f8bd6;\\\">Successfully Configured!</h2><br></center>\"))\n",
        "  \n",
        "except:\n",
        "  display(HTML(\"<center><h2 style=\\\"font-family:Trebuchet MS;color:#ff0000;\\\">Error Occured, Rerun the Cell!!</h2><br></center>\"))"
      ],
      "metadata": {
        "colab": {
          "base_uri": "https://localhost:8080/",
          "height": 82,
          "referenced_widgets": [
            "f6d5122c427341688475f4a334575dc3",
            "e120bac2f9374650aad95989fc0590d0",
            "cf3a1cd382bd4a67a9f98181c68ad5d9"
          ]
        },
        "id": "QJRbz50_WoMb",
        "outputId": "de7cd47f-c116-49af-c128-709951305fe4"
      },
      "execution_count": 2,
      "outputs": [
        {
          "output_type": "display_data",
          "data": {
            "text/plain": [
              "<IPython.core.display.HTML object>"
            ],
            "text/html": [
              "<center><h2 style=\"font-family:Trebuchet MS;color:#4f8bd6;\">Successfully Configured!</h2><br></center>"
            ]
          },
          "metadata": {}
        }
      ]
    },
    {
      "cell_type": "code",
      "source": [
        "#@markdown <h3>⬅️ Run this Cell to Download Skillshare Course</h3>\n",
        "PHPSESSID = \"b970a70bfc788b2b3b92e3da3976a062\" #@param {type:\"string\"}\n",
        "Course_Link = \"https://www.skillshare.com/classes/Programming-with-Kotlin-Masterclass-Complete-Course/1007002602\" #@param {type:\"string\"}\n",
        "!python3.7 /root/.Skillshare-DL/dl.py \"$PHPSESSID\" \"$Course_Link\""
      ],
      "metadata": {
        "colab": {
          "base_uri": "https://localhost:8080/"
        },
        "id": "EGUYjwDkbbV-",
        "outputId": "08ae4074-430b-4364-879c-afb68ddd7491"
      },
      "execution_count": null,
      "outputs": [
        {
          "output_type": "stream",
          "name": "stdout",
          "text": [
            "   \n",
            "                 ____  _    _ _ _     _                          ____  _     \n",
            "                / ___|| | _(_) | |___| |__   __ _ _ __ ___      |  _ \\| |    \n",
            "                \\___ \\| |/ / | | / __| '_ \\ / _` | '__/ _ \\_____| | | | |    \n",
            "                 ___) |   <| | | \\__ \\ | | | (_| | | |  __/_____| |_| | |___ \n",
            "                |____/|_|\\_\\_|_|_|___/_| |_|\\__,_|_|  \\___|     |____/|_____|  \n",
            "                             _ __ ___  _ _  _ _ _  ___  _ _ \n",
            "                            | / /| __>| \\ || | | || . || | |\n",
            "                            |  \\ | _> |   || | | ||   |\\   /\n",
            "                            |_\\_\\|___>|_\\_||__/_/ |_|_| |_| \n",
            "                    \n",
            "                    \n",
            "                        \n",
            "                     ####### #     # ####### #     #    #     #####  #    # \n",
            "                     #     # ##    # #       #     #   # #   #     # #   #  \n",
            "                     #     # # #   # #       #     #  #   #  #       #  #   \n",
            "                     #     # #  #  # #####   ####### #     # #       ###    \n",
            "                     #     # #   # # #       #     # ####### #       #  #   \n",
            "                     #     # #    ## #       #     # #     # #     # #   #  \n",
            "                     ####### #     # ####### #     # #     #  #####  #    # \n",
            "                                                                                                         \n",
            "                \n",
            "Downloading /content/Skillshare/stefan-jovanovi/programming-with-kotlin-masterclass-complete-course/01 - introduction.mp4...\n",
            "[==================================================]\n",
            "\n",
            "Downloading /content/Skillshare/stefan-jovanovi/programming-with-kotlin-masterclass-complete-course/02 - download-and-install-intelij-idea.mp4...\n",
            "[==================================================]\n",
            "\n",
            "Downloading /content/Skillshare/stefan-jovanovi/programming-with-kotlin-masterclass-complete-course/03 - hello-world.mp4...\n",
            "[==================================================]\n",
            "\n",
            "Downloading /content/Skillshare/stefan-jovanovi/programming-with-kotlin-masterclass-complete-course/04 - variables.mp4...\n",
            "[==================================================]\n",
            "\n",
            "Downloading /content/Skillshare/stefan-jovanovi/programming-with-kotlin-masterclass-complete-course/05 - data-types.mp4...\n",
            "[==================================================]\n",
            "\n",
            "Downloading /content/Skillshare/stefan-jovanovi/programming-with-kotlin-masterclass-complete-course/06 - functions.mp4...\n",
            "[==================================================]\n",
            "\n",
            "Downloading /content/Skillshare/stefan-jovanovi/programming-with-kotlin-masterclass-complete-course/07 - default-and-named-arguments.mp4...\n",
            "[==================================================]\n",
            "\n",
            "Downloading /content/Skillshare/stefan-jovanovi/programming-with-kotlin-masterclass-complete-course/08 - if-expression.mp4...\n",
            "[==================================================]\n",
            "\n",
            "Downloading /content/Skillshare/stefan-jovanovi/programming-with-kotlin-masterclass-complete-course/09 - string-templates-and-tripple-quited-strings.mp4...\n",
            "[==================================================]\n",
            "\n",
            "Downloading /content/Skillshare/stefan-jovanovi/programming-with-kotlin-masterclass-complete-course/10 - while-loop.mp4...\n",
            "[==================================================]\n",
            "\n",
            "Downloading /content/Skillshare/stefan-jovanovi/programming-with-kotlin-masterclass-complete-course/11 - for-loop-and-ranges.mp4...\n",
            "[==================================================]\n",
            "\n",
            "Downloading /content/Skillshare/stefan-jovanovi/programming-with-kotlin-masterclass-complete-course/12 - in-keyword.mp4...\n",
            "[==================================================]\n",
            "\n",
            "Downloading /content/Skillshare/stefan-jovanovi/programming-with-kotlin-masterclass-complete-course/13 - expressions-and-statements.mp4...\n",
            "[==================================================]\n",
            "\n",
            "Downloading /content/Skillshare/stefan-jovanovi/programming-with-kotlin-masterclass-complete-course/14 - classes.mp4...\n",
            "[==================================================]\n",
            "\n",
            "Downloading /content/Skillshare/stefan-jovanovi/programming-with-kotlin-masterclass-complete-course/15 - properties.mp4...\n",
            "[==================================================]\n",
            "\n",
            "Downloading /content/Skillshare/stefan-jovanovi/programming-with-kotlin-masterclass-complete-course/16 - constructor.mp4...\n",
            "[==================================================]\n",
            "\n",
            "Downloading /content/Skillshare/stefan-jovanovi/programming-with-kotlin-masterclass-complete-course/17 - visibility-modifiers.mp4...\n",
            "[==================================================]\n",
            "\n",
            "Downloading /content/Skillshare/stefan-jovanovi/programming-with-kotlin-masterclass-complete-course/18 - packages-and-imports.mp4...\n",
            "[==================================================]\n",
            "\n",
            "Downloading /content/Skillshare/stefan-jovanovi/programming-with-kotlin-masterclass-complete-course/19 - lists.mp4...\n",
            "[==================================================]\n",
            "\n",
            "Downloading /content/Skillshare/stefan-jovanovi/programming-with-kotlin-masterclass-complete-course/20 - varargs-variable-argument-lists.mp4...\n",
            "[==================================================]\n",
            "\n",
            "Downloading /content/Skillshare/stefan-jovanovi/programming-with-kotlin-masterclass-complete-course/21 - sets.mp4...\n",
            "[==================================================]\n",
            "\n",
            "Downloading /content/Skillshare/stefan-jovanovi/programming-with-kotlin-masterclass-complete-course/22 - maps.mp4...\n",
            "[=================================                 ]"
          ]
        }
      ]
    },
    {
      "cell_type": "code",
      "source": [
        "#@markdown <h3>⬅️ Run This Cell to  Move Downloaded Courses to Gdrive\n",
        "!mv /content/Skillshare \"/content/drive/My Drive/0 Tutorials\""
      ],
      "metadata": {
        "id": "iPCn-RzL_d4V"
      },
      "execution_count": null,
      "outputs": []
    }
  ]
}